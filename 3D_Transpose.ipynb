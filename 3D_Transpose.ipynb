{
  "nbformat": 4,
  "nbformat_minor": 0,
  "metadata": {
    "colab": {
      "name": "3D Transpose.ipynb",
      "provenance": [],
      "authorship_tag": "ABX9TyMWDKpV3AvLaLqrG6qx2ubw",
      "include_colab_link": true
    },
    "kernelspec": {
      "name": "python3",
      "display_name": "Python 3"
    }
  },
  "cells": [
    {
      "cell_type": "markdown",
      "metadata": {
        "id": "view-in-github",
        "colab_type": "text"
      },
      "source": [
        "<a href=\"https://colab.research.google.com/github/YugalPNTL/Python/blob/master/3D_Transpose.ipynb\" target=\"_parent\"><img src=\"https://colab.research.google.com/assets/colab-badge.svg\" alt=\"Open In Colab\"/></a>"
      ]
    },
    {
      "cell_type": "code",
      "metadata": {
        "id": "gRIOXEgH6t4G",
        "colab_type": "code",
        "colab": {}
      },
      "source": [
        "import numpy as np"
      ],
      "execution_count": 1,
      "outputs": []
    },
    {
      "cell_type": "code",
      "metadata": {
        "id": "uSwCW_t86vyg",
        "colab_type": "code",
        "colab": {
          "base_uri": "https://localhost:8080/",
          "height": 170
        },
        "outputId": "3256f072-2d96-454b-f206-f0e720d9d7c3"
      },
      "source": [
        "a = np.arange(30).reshape(3, 2, 5)\n",
        "\n",
        "print(a)\n",
        "print(a.shape)"
      ],
      "execution_count": 2,
      "outputs": [
        {
          "output_type": "stream",
          "text": [
            "[[[ 0  1  2  3  4]\n",
            "  [ 5  6  7  8  9]]\n",
            "\n",
            " [[10 11 12 13 14]\n",
            "  [15 16 17 18 19]]\n",
            "\n",
            " [[20 21 22 23 24]\n",
            "  [25 26 27 28 29]]]\n",
            "(3, 2, 5)\n"
          ],
          "name": "stdout"
        }
      ]
    },
    {
      "cell_type": "code",
      "metadata": {
        "id": "YYVMYJom6zHE",
        "colab_type": "code",
        "colab": {
          "base_uri": "https://localhost:8080/",
          "height": 323
        },
        "outputId": "a003bbcb-ccad-4c14-8085-59af6c23d64a"
      },
      "source": [
        "b = np.transpose(a, (0, 2, 1))\n",
        "print(b)\n",
        "print(b.shape)"
      ],
      "execution_count": 3,
      "outputs": [
        {
          "output_type": "stream",
          "text": [
            "[[[ 0  5]\n",
            "  [ 1  6]\n",
            "  [ 2  7]\n",
            "  [ 3  8]\n",
            "  [ 4  9]]\n",
            "\n",
            " [[10 15]\n",
            "  [11 16]\n",
            "  [12 17]\n",
            "  [13 18]\n",
            "  [14 19]]\n",
            "\n",
            " [[20 25]\n",
            "  [21 26]\n",
            "  [22 27]\n",
            "  [23 28]\n",
            "  [24 29]]]\n",
            "(3, 5, 2)\n"
          ],
          "name": "stdout"
        }
      ]
    },
    {
      "cell_type": "code",
      "metadata": {
        "id": "VcyZkho161hf",
        "colab_type": "code",
        "colab": {
          "base_uri": "https://localhost:8080/",
          "height": 272
        },
        "outputId": "c8a49d6e-a58c-4ed1-e811-fe716a842eb8"
      },
      "source": [
        "c = np.transpose(a, (2, 1, 0))\n",
        "print(c)\n",
        "print(c.shape)"
      ],
      "execution_count": 4,
      "outputs": [
        {
          "output_type": "stream",
          "text": [
            "[[[ 0 10 20]\n",
            "  [ 5 15 25]]\n",
            "\n",
            " [[ 1 11 21]\n",
            "  [ 6 16 26]]\n",
            "\n",
            " [[ 2 12 22]\n",
            "  [ 7 17 27]]\n",
            "\n",
            " [[ 3 13 23]\n",
            "  [ 8 18 28]]\n",
            "\n",
            " [[ 4 14 24]\n",
            "  [ 9 19 29]]]\n",
            "(5, 2, 3)\n"
          ],
          "name": "stdout"
        }
      ]
    },
    {
      "cell_type": "code",
      "metadata": {
        "id": "9rm24Vd864lE",
        "colab_type": "code",
        "colab": {}
      },
      "source": [
        ""
      ],
      "execution_count": null,
      "outputs": []
    }
  ]
}