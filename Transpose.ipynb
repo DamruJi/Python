{
 "cells": [
  {
   "cell_type": "code",
   "execution_count": 1,
   "metadata": {
    "colab": {},
    "colab_type": "code",
    "id": "Nr-fAl3Bl62G"
   },
   "outputs": [],
   "source": [
    "import numpy as np"
   ]
  },
  {
   "cell_type": "markdown",
   "metadata": {
    "colab_type": "text",
    "id": "LjGHxVyBl9zc"
   },
   "source": [
    "Transpose of any given Matrix is received when we interchange the rows and coloumns. If the given Matrix is $A$ then its transpose is shown as ![\\begin{equation*} A =  \\begin{pmatrix} 1 & 2 & 3 \\\\ 4 & 5 & 6 \\\\ 7 & 8 & 9 \\end{pmatrix} \\end{equation*}](https://render.githubusercontent.com/render/math?math=%5Cbegin%7Bequation*%7D%20A%20%3D%20%20%5Cbegin%7Bpmatrix%7D%201%20%26%202%20%26%203%20%5C%5C%204%20%26%205%20%26%206%20%5C%5C%207%20%26%208%20%26%209%20%5Cend%7Bpmatrix%7D%20%5Cend%7Bequation*%7D)\n",
    "and ![\\begin{equation*} B =  \\begin{pmatrix} 10 & 11 & 12 \\\\ 13 & 14 & 15 \\\\ 16 & 17 & 18 \\end{pmatrix} \\end{equation*} ](https://render.githubusercontent.com/render/math?math=%5Cbegin%7Bequation*%7D%20B%20%3D%20%20%5Cbegin%7Bpmatrix%7D%2010%20%26%2011%20%26%2012%20%5C%5C%2013%20%26%2014%20%26%2015%20%5C%5C%2016%20%26%2017%20%26%2018%20%5Cend%7Bpmatrix%7D%20%5Cend%7Bequation*%7D%20)  to understand various properties of transpose"
   ]
  },
  {
   "cell_type": "code",
   "execution_count": 2,
   "metadata": {
    "colab": {
     "base_uri": "https://localhost:8080/",
     "height": 153
    },
    "colab_type": "code",
    "id": "ojLteKEEmjnS",
    "outputId": "676503b1-1d10-4d12-c71a-2c4944feff50"
   },
   "outputs": [
    {
     "name": "stdout",
     "output_type": "stream",
     "text": [
      "Original Matrix:\n",
      "[[1 2 3]\n",
      " [4 5 6]\n",
      " [7 8 9]]\n",
      "Transposed Matriz:\n",
      "[[1 4 7]\n",
      " [2 5 8]\n",
      " [3 6 9]]\n"
     ]
    }
   ],
   "source": [
    "#Finding Transpose of Matrix A\n",
    "a = np.array([[1, 2, 3], [4, 5, 6],[7,8,9]])\n",
    "print(f'Original Matrix:\\n{a}')\n",
    "\n",
    "a_transpose = a.transpose()\n",
    "\n",
    "print(f'Transposed Matriz:\\n{a_transpose}')"
   ]
  },
  {
   "cell_type": "markdown",
   "metadata": {
    "colab_type": "text",
    "id": "9QGLYdAioMUV"
   },
   "source": [
    "**Now we would understand various properties of Transpose**\n"
   ]
  },
  {
   "cell_type": "markdown",
   "metadata": {
    "colab_type": "text",
    "id": "uaaiPkWyoh3c"
   },
   "source": [
    "1. $(AB)^{\\rm T}$ = $B^{\\rm T}$*$A^{\\rm T}$"
   ]
  },
  {
   "cell_type": "code",
   "execution_count": 3,
   "metadata": {
    "colab": {
     "base_uri": "https://localhost:8080/",
     "height": 153
    },
    "colab_type": "code",
    "id": "GxcQ_mHHpA6_",
    "outputId": "43ee9b55-4576-4011-9304-355433f8d2bc"
   },
   "outputs": [
    {
     "name": "stdout",
     "output_type": "stream",
     "text": [
      "Transposed Matriz of c is:\n",
      "[[ 84 201 318]\n",
      " [ 90 216 342]\n",
      " [ 96 231 366]]\n",
      "A Transpose Multiply B Traspose is :\n",
      "[[ 84 201 318]\n",
      " [ 90 216 342]\n",
      " [ 96 231 366]]\n"
     ]
    }
   ],
   "source": [
    "b = np.array([[10, 11, 12], [13, 14, 15],[16,17,18]])\n",
    "c= np.matmul(a, b)\n",
    "c_transpose = c.transpose()\n",
    "print(f'Transposed Matriz of c is:\\n{c_transpose}')\n",
    "print(f'A Transpose Multiply B Traspose is :\\n{np.matmul(b.transpose(), a.transpose())}')"
   ]
  },
  {
   "cell_type": "markdown",
   "metadata": {
    "colab_type": "text",
    "id": "ioTDZgsPr9s_"
   },
   "source": [
    "2. $(A+B)^{\\rm T}$ = $A^{\\rm T}$+$B^{\\rm T}$"
   ]
  },
  {
   "cell_type": "code",
   "execution_count": 4,
   "metadata": {
    "colab": {
     "base_uri": "https://localhost:8080/",
     "height": 153
    },
    "colab_type": "code",
    "id": "3pbYQuL-sDs8",
    "outputId": "999616b9-be57-46dd-89d0-81b5ace8251c"
   },
   "outputs": [
    {
     "name": "stdout",
     "output_type": "stream",
     "text": [
      "(A Plus B) Transpose is:\n",
      "[[11 17 23]\n",
      " [13 19 25]\n",
      " [15 21 27]]\n",
      "A Transpose Plus B Transpose is:\n",
      "[[11 17 23]\n",
      " [13 19 25]\n",
      " [15 21 27]]\n"
     ]
    }
   ],
   "source": [
    "d=np.transpose(np.add(a,b))\n",
    "print(f'(A Plus B) Transpose is:\\n{d}')\n",
    "print(f'A Transpose Plus B Transpose is:\\n{a.transpose()+b.transpose()}')\n"
   ]
  },
  {
   "cell_type": "markdown",
   "metadata": {
    "colab_type": "text",
    "id": "UawnU1Uk0Diw"
   },
   "source": [
    "Symmetric Matrix: When Transpose of Matrix is Equal to Matrix\n",
    "\n",
    "---\n",
    "\n",
    "\n",
    "Skewed Symmetric Matrix: When Transpose of Matrix is not Equal to Matrix\n",
    "\n",
    "3. For Any Square Matrix $A:$ $A+A^{\\rm T}$ is symmetric Matrix and $A-A^{\\rm T}$ is skewed symmetric matrix"
   ]
  },
  {
   "cell_type": "code",
   "execution_count": 5,
   "metadata": {
    "colab": {
     "base_uri": "https://localhost:8080/",
     "height": 289
    },
    "colab_type": "code",
    "id": "G33OXi2-0vQ3",
    "outputId": "8ad59a46-48b6-421b-c40d-f9f86ef50159"
   },
   "outputs": [
    {
     "name": "stdout",
     "output_type": "stream",
     "text": [
      "(A Plus (A Transpose) is:\n",
      "[[ 2  6 10]\n",
      " [ 6 10 14]\n",
      " [10 14 18]]\n",
      "(Transpose of A Plus (A Transpose) is:\n",
      "[[ 2  6 10]\n",
      " [ 6 10 14]\n",
      " [10 14 18]]\n",
      "(A Minus (A Transpose) is:\n",
      "[[ 0 -2 -4]\n",
      " [ 2  0 -2]\n",
      " [ 4  2  0]]\n",
      "(Transpose of A Minus (A Transpose) is:\n",
      "[[ 0  2  4]\n",
      " [-2  0  2]\n",
      " [-4 -2  0]]\n"
     ]
    }
   ],
   "source": [
    "print(f'(A Plus (A Transpose) is:\\n{np.add(a,a.transpose())}')\n",
    "print(f'(Transpose of A Plus (A Transpose) is:\\n{np.add(a,a.transpose()).transpose()}')\n",
    "print(f'(A Minus (A Transpose) is:\\n{np.subtract(a,a.transpose())}')\n",
    "print(f'(Transpose of A Minus (A Transpose) is:\\n{np.subtract(a,a.transpose()).transpose()}')"
   ]
  },
  {
   "cell_type": "markdown",
   "metadata": {
    "colab_type": "text",
    "id": "2l9iDtny1nmQ"
   },
   "source": [
    "4. when a Matrix is Multiplied by its Transpose the resultant Matrix is Symmetric Matrix. \n",
    "$A{\\rm }$*$A^{\\rm T}$ is always symmetric matrix"
   ]
  },
  {
   "cell_type": "code",
   "execution_count": 6,
   "metadata": {
    "colab": {
     "base_uri": "https://localhost:8080/",
     "height": 323
    },
    "colab_type": "code",
    "id": "KrEGj-PH2pAb",
    "outputId": "5310fe9b-ac69-46cd-a6ce-caa56b21dee0"
   },
   "outputs": [
    {
     "name": "stdout",
     "output_type": "stream",
     "text": [
      "Matrix A is:\n",
      "[[1 2 3]\n",
      " [4 5 6]\n",
      " [7 8 9]]\n",
      "Transpose of Matrix A is:\n",
      "[[1 4 7]\n",
      " [2 5 8]\n",
      " [3 6 9]]\n",
      "Multiplication of Matrix A with its Transpose is:\n",
      "[[ 14  32  50]\n",
      " [ 32  77 122]\n",
      " [ 50 122 194]]\n",
      "Transpose of Matrix D is:\n",
      "[[ 14  32  50]\n",
      " [ 32  77 122]\n",
      " [ 50 122 194]]\n",
      "Is Matrix D Symetric matrix?\n",
      "True\n"
     ]
    }
   ],
   "source": [
    "print(f'Matrix A is:\\n{a}')\n",
    "print(f'Transpose of Matrix A is:\\n{a.transpose()}')\n",
    "#Multiplying Matrix A with its Transpose\n",
    "d=np.matmul(a,a.transpose())\n",
    "print(f'Multiplication of Matrix A with its Transpose is:\\n{d}')\n",
    "print(f'Transpose of Matrix D is:\\n{d.transpose()}')\n",
    "print('Is Matrix D Symetric matrix?')\n",
    "print(np.array_equal(d, d.transpose()))"
   ]
  },
  {
   "cell_type": "code",
   "execution_count": null,
   "metadata": {
    "colab": {},
    "colab_type": "code",
    "id": "Oun44_9E3Yyh"
   },
   "outputs": [],
   "source": []
  }
 ],
 "metadata": {
  "colab": {
   "name": "Transpose.ipynb",
   "provenance": []
  },
  "kernelspec": {
   "display_name": "Python 3",
   "language": "python",
   "name": "python3"
  },
  "language_info": {
   "codemirror_mode": {
    "name": "ipython",
    "version": 3
   },
   "file_extension": ".py",
   "mimetype": "text/x-python",
   "name": "python",
   "nbconvert_exporter": "python",
   "pygments_lexer": "ipython3",
   "version": "3.7.6"
  }
 },
 "nbformat": 4,
 "nbformat_minor": 1
}
