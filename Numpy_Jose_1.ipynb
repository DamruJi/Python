{
 "cells": [
  {
   "cell_type": "code",
   "execution_count": 1,
   "metadata": {
    "colab": {},
    "colab_type": "code",
    "id": "9BRv8l_RCi7x"
   },
   "outputs": [],
   "source": [
    "import numpy as np"
   ]
  },
  {
   "cell_type": "code",
   "execution_count": 2,
   "metadata": {
    "colab": {
     "base_uri": "https://localhost:8080/",
     "height": 231
    },
    "colab_type": "code",
    "id": "yN1YdSPmGGu1",
    "outputId": "40e9405b-69d8-4ce7-e06e-8ea1c899f370"
   },
   "outputs": [
    {
     "name": "stdout",
     "output_type": "stream",
     "text": [
      "[1, 2, 3]\n",
      "[1 2 3]\n"
     ]
    }
   ],
   "source": [
    "#converting python list to numpy 1-d array\n",
    "a=[1,2,3]\n",
    "print(a)\n",
    "\n",
    "b=np.array(a)\n",
    "print(b)\n"
   ]
  },
  {
   "cell_type": "code",
   "execution_count": 3,
   "metadata": {
    "colab": {
     "base_uri": "https://localhost:8080/",
     "height": 119
    },
    "colab_type": "code",
    "id": "QgufQ3vfGWZd",
    "outputId": "0157e23c-c6aa-4a13-dce9-a53da43241b5"
   },
   "outputs": [
    {
     "name": "stdout",
     "output_type": "stream",
     "text": [
      "[[1, 2], [3, 4], [5, 6], [7, 8], [9, 10]]\n",
      "[[ 1  2]\n",
      " [ 3  4]\n",
      " [ 5  6]\n",
      " [ 7  8]\n",
      " [ 9 10]]\n"
     ]
    }
   ],
   "source": [
    "#converting python list of list to numpy 2d array\n",
    "a=[[1,2],[3,4],[5,6],[7,8],[9,10]]\n",
    "print(a)\n",
    "b=np.array(a)\n",
    "print(b)"
   ]
  },
  {
   "cell_type": "code",
   "execution_count": 4,
   "metadata": {
    "colab": {
     "base_uri": "https://localhost:8080/",
     "height": 34
    },
    "colab_type": "code",
    "id": "ZdfPLp2CG5_U",
    "outputId": "f669fc86-b2ca-40b2-b55c-7192dcb8431d"
   },
   "outputs": [
    {
     "name": "stdout",
     "output_type": "stream",
     "text": [
      "[ 0  3  6  9 12 15 18 21 24 27 30 33 36 39]\n"
     ]
    }
   ],
   "source": [
    "#arrange(start, stop, step size)--stop is exclusive\n",
    "a=np.arange(0,40,3)\n",
    "print(a)"
   ]
  },
  {
   "cell_type": "code",
   "execution_count": 5,
   "metadata": {
    "colab": {
     "base_uri": "https://localhost:8080/",
     "height": 153
    },
    "colab_type": "code",
    "id": "lZgGNmnsIBGP",
    "outputId": "fa1673c4-0cfb-4323-e70e-62deaf4ea674"
   },
   "outputs": [
    {
     "name": "stdout",
     "output_type": "stream",
     "text": [
      "[0. 0. 0. 0. 0.]\n",
      "[[0. 0. 0. 0. 0.]\n",
      " [0. 0. 0. 0. 0.]\n",
      " [0. 0. 0. 0. 0.]]\n",
      "[1. 1. 1.]\n",
      "[[1. 1. 1. 1.]\n",
      " [1. 1. 1. 1.]\n",
      " [1. 1. 1. 1.]]\n"
     ]
    }
   ],
   "source": [
    "a=np.zeros(5)\n",
    "print(a)\n",
    "\n",
    "b=np.zeros((3,5))\n",
    "print(b)\n",
    "\n",
    "c=np.ones(3)\n",
    "print(c)\n",
    "\n",
    "d=np.ones((3,4))\n",
    "print(d)\n",
    "\n",
    "#Pass Tuple for multi dimensions"
   ]
  },
  {
   "cell_type": "code",
   "execution_count": 6,
   "metadata": {
    "colab": {
     "base_uri": "https://localhost:8080/",
     "height": 34
    },
    "colab_type": "code",
    "id": "1M9EPBbsIVmT",
    "outputId": "6b86bf74-ac7f-414a-814f-433c21d500f1"
   },
   "outputs": [
    {
     "name": "stdout",
     "output_type": "stream",
     "text": [
      "[ 0.  5. 10. 15. 20.]\n"
     ]
    }
   ],
   "source": [
    "a=np.linspace(0,20,5)\n",
    "print(a)\n",
    "\n",
    "#linspace(start Num of AP, End Num of AP, Total Num in AP)"
   ]
  },
  {
   "cell_type": "code",
   "execution_count": 7,
   "metadata": {
    "colab": {
     "base_uri": "https://localhost:8080/",
     "height": 102
    },
    "colab_type": "code",
    "id": "bhYZ5pdKCs1s",
    "outputId": "d35ed15a-ed17-48ba-e152-c9bc62e5dee4"
   },
   "outputs": [
    {
     "name": "stdout",
     "output_type": "stream",
     "text": [
      "[[1. 0. 0. 0. 0.]\n",
      " [0. 1. 0. 0. 0.]\n",
      " [0. 0. 1. 0. 0.]\n",
      " [0. 0. 0. 1. 0.]\n",
      " [0. 0. 0. 0. 1.]]\n"
     ]
    }
   ],
   "source": [
    "a=np.eye(5)\n",
    "print(a)\n",
    "#it generates identity matrix of specified numbers."
   ]
  },
  {
   "cell_type": "markdown",
   "metadata": {
    "colab_type": "text",
    "id": "fMlAxi_9CoNl"
   },
   "source": [
    "Random Numbers in Numpy\n"
   ]
  },
  {
   "cell_type": "code",
   "execution_count": 8,
   "metadata": {
    "colab": {
     "base_uri": "https://localhost:8080/",
     "height": 85
    },
    "colab_type": "code",
    "id": "3HKZ4nlMCrYi",
    "outputId": "9951f423-b308-4fc5-d97b-d5ebebe65b2c"
   },
   "outputs": [
    {
     "name": "stdout",
     "output_type": "stream",
     "text": [
      "[0.98590066 0.58979473 0.7367604  0.85201751 0.29271775]\n",
      "[[0.26938234 0.19932259 0.95579471]\n",
      " [0.27841437 0.77238592 0.03372595]\n",
      " [0.10808368 0.92733598 0.48859264]]\n"
     ]
    }
   ],
   "source": [
    "a=np.random.rand(5)\n",
    "print(a)\n",
    "\n",
    "b=np.random.rand(3,3)\n",
    "print(b)\n",
    "\n",
    "#rand generates random numbers between 0 t0 1 (1 excluded)\n"
   ]
  },
  {
   "cell_type": "code",
   "execution_count": 9,
   "metadata": {
    "colab": {
     "base_uri": "https://localhost:8080/",
     "height": 85
    },
    "colab_type": "code",
    "id": "_dLGzJjWCksj",
    "outputId": "2908ac9c-f611-40e4-e157-638d0eec145c",
    "scrolled": true
   },
   "outputs": [
    {
     "name": "stdout",
     "output_type": "stream",
     "text": [
      "[-0.22326441  0.40312278  0.05306871 -1.09133458  0.7581706 ]\n",
      "[[-0.24996793  0.32617499  0.01616952  0.53326725 -0.44713991]\n",
      " [-0.29318425 -2.35245669  1.64618652  0.03580189 -0.69477424]\n",
      " [-1.25354256  1.09224077  0.84524345  1.59003506 -1.2173204 ]]\n"
     ]
    }
   ],
   "source": [
    "a=np.random.randn(5)\n",
    "print(a)\n",
    "\n",
    "b=np.random.randn(3,5)\n",
    "print(b)\n",
    "\n",
    "#randn takes sample from standard normal distribution"
   ]
  },
  {
   "cell_type": "markdown",
   "metadata": {
    "colab_type": "text",
    "id": "ZraaED0VCnGc"
   },
   "source": []
  },
  {
   "cell_type": "code",
   "execution_count": 10,
   "metadata": {
    "colab": {
     "base_uri": "https://localhost:8080/",
     "height": 51
    },
    "colab_type": "code",
    "id": "b7H0HYJyEiqN",
    "outputId": "56e3f750-f05f-4ca1-ccf5-8102a14cef25"
   },
   "outputs": [
    {
     "name": "stdout",
     "output_type": "stream",
     "text": [
      "[3 9 6 8 4]\n",
      "23\n"
     ]
    }
   ],
   "source": [
    "a=np.random.randint(1,10,5)\n",
    "print(a)\n",
    "\n",
    "b=np.random.randint(5,60) #random int between 5 inclusive & 60 exclusive\n",
    "print(b)\n",
    "\n",
    "#randint random numbers between (start, stop, total numbers)\n",
    "#start is inclusive but stop is exclusive"
   ]
  },
  {
   "cell_type": "code",
   "execution_count": 11,
   "metadata": {
    "colab": {
     "base_uri": "https://localhost:8080/",
     "height": 136
    },
    "colab_type": "code",
    "id": "zdgL1rMNE77l",
    "outputId": "10916ca8-4d50-4bc0-daf6-b82d706e1bf8"
   },
   "outputs": [
    {
     "name": "stdout",
     "output_type": "stream",
     "text": [
      "[ 0  1  2  3  4  5  6  7  8  9 10 11 12 13 14 15 16 17 18 19 20 21 22 23\n",
      " 24 25 26 27 28 29]\n",
      "[[ 0  1  2  3  4  5]\n",
      " [ 6  7  8  9 10 11]\n",
      " [12 13 14 15 16 17]\n",
      " [18 19 20 21 22 23]\n",
      " [24 25 26 27 28 29]]\n",
      "(5, 6)\n",
      "int32\n"
     ]
    }
   ],
   "source": [
    "#reshape no of elements should be same as in array being shaped.\n",
    "#reshape(rows,columns)--rows*columns=elements in array being reshaped\n",
    "a=np.arange(0,30)\n",
    "print(a)\n",
    "\n",
    "b=a.reshape(5,6)\n",
    "print(b)\n",
    "print(b.shape)\n",
    "\n",
    "print(b.dtype)"
   ]
  },
  {
   "cell_type": "markdown",
   "metadata": {},
   "source": [
    "**Be careful to remember that shape is an attribute and not a function. Attributes do not have parenthesis following them**"
   ]
  },
  {
   "cell_type": "code",
   "execution_count": 12,
   "metadata": {
    "colab": {
     "base_uri": "https://localhost:8080/",
     "height": 231
    },
    "colab_type": "code",
    "id": "tqarDIHbbytb",
    "outputId": "d06694b6-8765-4eb2-e3b2-742aefe27b49"
   },
   "outputs": [
    {
     "name": "stdout",
     "output_type": "stream",
     "text": [
      "[ 6 44 38 39 32 41 42 43 30  5 24]\n",
      "44\n",
      "1\n",
      "5\n",
      "9\n"
     ]
    },
    {
     "data": {
      "text/plain": [
       "array([ 6, 44, 38, 39, 32, 41, 42, 43, 30,  5, 24])"
      ]
     },
     "execution_count": 12,
     "metadata": {},
     "output_type": "execute_result"
    }
   ],
   "source": [
    "a= np.random.randint(1,50,11)\n",
    "print(a)\n",
    "\n",
    "print(a.max())\n",
    "print(a.argmax())\n",
    "print(a.min())\n",
    "print(a.argmin())\n",
    "\n",
    "a.reshape(11,)\n"
   ]
  },
  {
   "cell_type": "code",
   "execution_count": null,
   "metadata": {
    "colab": {
     "base_uri": "https://localhost:8080/",
     "height": 180
    },
    "colab_type": "code",
    "id": "uvBR_oKYdhvU",
    "outputId": "d9531f5e-449e-418b-f93e-09511770e2c3"
   },
   "outputs": [],
   "source": []
  },
  {
   "cell_type": "code",
   "execution_count": null,
   "metadata": {
    "colab": {},
    "colab_type": "code",
    "id": "sqf6RTut2PDx"
   },
   "outputs": [],
   "source": []
  }
 ],
 "metadata": {
  "colab": {
   "collapsed_sections": [],
   "name": "Numpy_Jose_Course.ipynb",
   "provenance": []
  },
  "kernelspec": {
   "display_name": "Python 3",
   "language": "python",
   "name": "python3"
  },
  "language_info": {
   "codemirror_mode": {
    "name": "ipython",
    "version": 3
   },
   "file_extension": ".py",
   "mimetype": "text/x-python",
   "name": "python",
   "nbconvert_exporter": "python",
   "pygments_lexer": "ipython3",
   "version": "3.7.4"
  }
 },
 "nbformat": 4,
 "nbformat_minor": 1
}
